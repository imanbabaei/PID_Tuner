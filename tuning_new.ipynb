{
 "cells": [
  {
   "cell_type": "markdown",
   "id": "6d715d5b-df10-4acf-8b69-0de7d29c0f3c",
   "metadata": {},
   "source": [
    "## Tuning Page + Backend"
   ]
  },
  {
   "cell_type": "code",
   "execution_count": 1,
   "id": "9f8c880e-0ddc-4d96-b0d1-ce90e874ddac",
   "metadata": {
    "tags": []
   },
   "outputs": [],
   "source": [
    "import ipyvuetify as v\n",
    "from seeq_pid.tuning_page import TuningPage\n",
    "from seeq_pid.pidtuner import PIDTuner"
   ]
  },
  {
   "cell_type": "code",
   "execution_count": 2,
   "id": "42c1bcf0-bb47-4625-943a-ca9b3ec213e8",
   "metadata": {},
   "outputs": [],
   "source": [
    "class Tuning(TuningPage):\n",
    "    def __init__(self):\n",
    "        super().__init__()\n",
    "        \n",
    "        self.pid = PIDTuner()\n",
    "        \n",
    "        self.pid.k_p = 2\n",
    "        self.pid.tau_p = 30\n",
    "        self.pid.theta_p = 0\n",
    "        \n",
    "        self.pid.set_dt(dt=2)\n",
    "        self.pid.set_sim_time(200)\n",
    "        self.pid.delta_max = 0.05\n",
    "        \n",
    "        self.pid.setpoint = float(self.sim_card.sp_textbox.v_model)\n",
    "        \n",
    "        self.pid.k_c, self.pid.tau_i, self.pid.tau_d, _ = self.pid.rule_based(method='IMC', mode='moderate', tau_c=None)\n",
    "        \n",
    "        self.pid_card.p_slider.set_limits(min(0.1*self.pid.k_c, 1), 10*self.pid.k_c, self.pid.k_c)\n",
    "        self.pid_card.i_slider.set_limits(0.5*self.pid.tau_i, 1.5*self.pid.tau_i, self.pid.tau_i)\n",
    "        self.pid_card.d_slider.set_limits(0.5*self.pid.tau_d, max(1.5*self.pid.tau_d, self.pid.tau_d+5), self.pid.tau_d)\n",
    "        \n",
    "        self.model_card.g_slider.set_limits(0.5*self.pid.k_p, 1.5*self.pid.k_p, self.pid.k_p)\n",
    "        self.model_card.tau_slider.set_limits(0.5*self.pid.tau_p, 1.5*self.pid.tau_p, self.pid.tau_p)\n",
    "        self.model_card.d_slider.set_limits(0, self.pid.theta_p+5, self.pid.theta_p)\n",
    "        \n",
    "        self.sim_card.sim_time_textbox.v_model = self.pid.sim_time\n",
    "        \n",
    "        \n",
    "        self.pid_card.p_slider.slider.on_event('change', self.slider_action)\n",
    "        self.pid_card.i_slider.slider.on_event('change', self.slider_action)\n",
    "        self.pid_card.d_slider.slider.on_event('change', self.slider_action)\n",
    "        \n",
    "        self.model_card.g_slider.slider.on_event('change', self.slider_action)\n",
    "        self.model_card.tau_slider.slider.on_event('change', self.slider_action)\n",
    "        self.model_card.d_slider.slider.on_event('change', self.slider_action)\n",
    "        \n",
    "        self.pid_card.p_slider.slider_textfield.on_event('change', self.slider_textfiled_action)\n",
    "        self.pid_card.i_slider.slider_textfield.on_event('change', self.slider_textfiled_action)\n",
    "        self.pid_card.d_slider.slider_textfield.on_event('change', self.slider_textfiled_action)\n",
    "        \n",
    "        self.model_card.g_slider.slider_textfield.on_event('change', self.slider_textfiled_action)\n",
    "        self.model_card.tau_slider.slider_textfield.on_event('change', self.slider_textfiled_action)\n",
    "        self.model_card.d_slider.slider_textfield.on_event('change', self.slider_textfiled_action)\n",
    "        \n",
    "        self.method_card.method_radio\n",
    "        \n",
    "        self.sim_card.sim_time_textbox.on_event('change', self.update_params)\n",
    "        self.sim_card.sp_textbox.on_event('change', self.update_params)\n",
    "        \n",
    "        self.run_pid(mode='optimization')\n",
    "    \n",
    "    def slider_action(self, *args):\n",
    "        self.method_card.method_radio.v_model = 'Custom'\n",
    "        self.method_card.method_radio_action(item=self.method_card.method_radio)\n",
    "        self.update_params()\n",
    "        \n",
    "    def slider_textfiled_action(self, item, *args):\n",
    "        cond = item.kwargs['slider_check'](item.v_model)   \n",
    "        if cond:\n",
    "            self.update_params()\n",
    "        \n",
    "    def update_params(self, *args):\n",
    "        self.pid.k_p = self.model_card.g_slider.slider.v_model\n",
    "        self.pid.tau_p = self.model_card.tau_slider.slider.v_model\n",
    "        self.pid.theta_p = self.model_card.d_slider.slider.v_model\n",
    "        \n",
    "        self.pid.k_c = self.pid_card.p_slider.slider.v_model\n",
    "        self.pid.tau_i = self.pid_card.i_slider.slider.v_model\n",
    "        self.pid.tau_d = self.pid_card.d_slider.slider.v_model\n",
    "        \n",
    "        self.pid.set_sim_time(self.sim_card.sim_time_textbox.v_model)\n",
    "        self.pid.setpoint = float(self.sim_card.sp_textbox.v_model)\n",
    "        \n",
    "        self.pid.reset_sp()\n",
    "        self.pid.reset_u()\n",
    "        self.pid.error = 0\n",
    "        self.pid.integral_error = 0\n",
    "        self.pid.derivative_error = 0\n",
    "        self.pid.op_last = 0\n",
    "        self.pid.pv_last = 0\n",
    "        \n",
    "        self.run_pid()\n",
    "        \n",
    "    def slider_check(self, item, *args):\n",
    "        pass\n",
    "        \n",
    "    def run_pid(self, mode='simulation', **kwargs):\n",
    "        if mode=='simulation':\n",
    "            t, op, pv, sp = self.pid.simulate()\n",
    "            \n",
    "        if mode=='optimization':\n",
    "            t, op, pv, sp = self.pid.optimization_base()\n",
    "            \n",
    "        if mode=='rule-based':\n",
    "            if self.method_card.cl_tau.v_model == '':\n",
    "                user_cl_tau = None\n",
    "            else:\n",
    "                user_cl_tau = float(self.method_card.cl_tau.v_model)\n",
    "            self.pid.k_c, self.pid.tau_i, self.pid.tau_d, _ = self.pid.rule_based(method='IMC', mode='moderate', tau_c=user_cl_tau)\n",
    "            t, op, pv, sp = self.pid.simulate()\n",
    "        \n",
    "        self.pv_card.update_plot(t, pv, sp, name1='PV', name2='SP')\n",
    "        self.op_card.update_plot(t, op, name1='OP')\n",
    "        "
   ]
  },
  {
   "cell_type": "code",
   "execution_count": 3,
   "id": "51a7c7b1-d7be-492a-90e7-aa8d247acf02",
   "metadata": {},
   "outputs": [
    {
     "data": {
      "application/vnd.jupyter.widget-view+json": {
       "model_id": "197ea15884e54818b858a836d21f96da",
       "version_major": 2,
       "version_minor": 0
      },
      "text/plain": [
       "Tuning(children=[Container(children=[CustomData(children=[CardTitle(children=[Spacer(), 'Tuning Constraints', …"
      ]
     },
     "metadata": {},
     "output_type": "display_data"
    }
   ],
   "source": [
    "a = Tuning()\n",
    "a"
   ]
  },
  {
   "cell_type": "code",
   "execution_count": null,
   "id": "80aafe73-d995-4cbd-94db-48680c9008ff",
   "metadata": {},
   "outputs": [],
   "source": [
    "#### History\n",
    "#### SP\n",
    "#### Push\n",
    "#### GitHub\n",
    "#### Formula"
   ]
  }
 ],
 "metadata": {
  "kernelspec": {
   "display_name": "Python 3 (ipykernel)",
   "language": "python",
   "name": "python3"
  },
  "language_info": {
   "codemirror_mode": {
    "name": "ipython",
    "version": 3
   },
   "file_extension": ".py",
   "mimetype": "text/x-python",
   "name": "python",
   "nbconvert_exporter": "python",
   "pygments_lexer": "ipython3",
   "version": "3.8.10"
  }
 },
 "nbformat": 4,
 "nbformat_minor": 5
}
