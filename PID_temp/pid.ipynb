{
 "cells": [
  {
   "cell_type": "code",
   "execution_count": 2,
   "id": "4a1ca319-e887-4733-9361-8c489a2a7915",
   "metadata": {},
   "outputs": [],
   "source": [
    "from gekko import GEKKO\n",
    "import numpy as np\n",
    "import pandas as pd"
   ]
  },
  {
   "cell_type": "code",
   "execution_count": 3,
   "id": "d3e7dc95-2ec5-4f9a-a255-3917f0804c1d",
   "metadata": {},
   "outputs": [
    {
     "data": {
      "text/html": [
       "<div>\n",
       "<style scoped>\n",
       "    .dataframe tbody tr th:only-of-type {\n",
       "        vertical-align: middle;\n",
       "    }\n",
       "\n",
       "    .dataframe tbody tr th {\n",
       "        vertical-align: top;\n",
       "    }\n",
       "\n",
       "    .dataframe thead th {\n",
       "        text-align: right;\n",
       "    }\n",
       "</style>\n",
       "<table border=\"1\" class=\"dataframe\">\n",
       "  <thead>\n",
       "    <tr style=\"text-align: right;\">\n",
       "      <th></th>\n",
       "      <th>Time</th>\n",
       "      <th>F_cw</th>\n",
       "      <th>T1</th>\n",
       "      <th>T2</th>\n",
       "      <th>CA1</th>\n",
       "      <th>CA2</th>\n",
       "    </tr>\n",
       "  </thead>\n",
       "  <tbody>\n",
       "    <tr>\n",
       "      <th>0</th>\n",
       "      <td>2021-01-01 07:08:30+00:00</td>\n",
       "      <td>101.428052</td>\n",
       "      <td>440.109595</td>\n",
       "      <td>448.722247</td>\n",
       "      <td>0.092934</td>\n",
       "      <td>0.005774</td>\n",
       "    </tr>\n",
       "    <tr>\n",
       "      <th>1</th>\n",
       "      <td>2021-01-01 07:08:40+00:00</td>\n",
       "      <td>101.428052</td>\n",
       "      <td>440.109597</td>\n",
       "      <td>448.722220</td>\n",
       "      <td>0.092935</td>\n",
       "      <td>0.005774</td>\n",
       "    </tr>\n",
       "    <tr>\n",
       "      <th>2</th>\n",
       "      <td>2021-01-01 07:08:50+00:00</td>\n",
       "      <td>101.428052</td>\n",
       "      <td>440.109618</td>\n",
       "      <td>448.722201</td>\n",
       "      <td>0.092935</td>\n",
       "      <td>0.005774</td>\n",
       "    </tr>\n",
       "    <tr>\n",
       "      <th>3</th>\n",
       "      <td>2021-01-01 07:09:00+00:00</td>\n",
       "      <td>101.428052</td>\n",
       "      <td>440.109649</td>\n",
       "      <td>448.722191</td>\n",
       "      <td>0.092934</td>\n",
       "      <td>0.005774</td>\n",
       "    </tr>\n",
       "    <tr>\n",
       "      <th>4</th>\n",
       "      <td>2021-01-01 07:09:10+00:00</td>\n",
       "      <td>101.428052</td>\n",
       "      <td>440.109685</td>\n",
       "      <td>448.722188</td>\n",
       "      <td>0.092934</td>\n",
       "      <td>0.005774</td>\n",
       "    </tr>\n",
       "    <tr>\n",
       "      <th>...</th>\n",
       "      <td>...</td>\n",
       "      <td>...</td>\n",
       "      <td>...</td>\n",
       "      <td>...</td>\n",
       "      <td>...</td>\n",
       "      <td>...</td>\n",
       "    </tr>\n",
       "    <tr>\n",
       "      <th>955</th>\n",
       "      <td>2021-01-01 09:47:40+00:00</td>\n",
       "      <td>96.555456</td>\n",
       "      <td>443.847866</td>\n",
       "      <td>451.318028</td>\n",
       "      <td>0.078011</td>\n",
       "      <td>0.004296</td>\n",
       "    </tr>\n",
       "    <tr>\n",
       "      <th>956</th>\n",
       "      <td>2021-01-01 09:47:50+00:00</td>\n",
       "      <td>96.555456</td>\n",
       "      <td>443.847866</td>\n",
       "      <td>451.318028</td>\n",
       "      <td>0.078011</td>\n",
       "      <td>0.004296</td>\n",
       "    </tr>\n",
       "    <tr>\n",
       "      <th>957</th>\n",
       "      <td>2021-01-01 09:48:00+00:00</td>\n",
       "      <td>96.555456</td>\n",
       "      <td>443.847866</td>\n",
       "      <td>451.318028</td>\n",
       "      <td>0.078011</td>\n",
       "      <td>0.004296</td>\n",
       "    </tr>\n",
       "    <tr>\n",
       "      <th>958</th>\n",
       "      <td>2021-01-01 09:48:10+00:00</td>\n",
       "      <td>96.555456</td>\n",
       "      <td>443.847866</td>\n",
       "      <td>451.318028</td>\n",
       "      <td>0.078011</td>\n",
       "      <td>0.004296</td>\n",
       "    </tr>\n",
       "    <tr>\n",
       "      <th>959</th>\n",
       "      <td>2021-01-01 09:48:20+00:00</td>\n",
       "      <td>96.555456</td>\n",
       "      <td>443.847866</td>\n",
       "      <td>451.318028</td>\n",
       "      <td>0.078011</td>\n",
       "      <td>0.004296</td>\n",
       "    </tr>\n",
       "  </tbody>\n",
       "</table>\n",
       "<p>960 rows × 6 columns</p>\n",
       "</div>"
      ],
      "text/plain": [
       "                          Time        F_cw          T1          T2       CA1  \\\n",
       "0    2021-01-01 07:08:30+00:00  101.428052  440.109595  448.722247  0.092934   \n",
       "1    2021-01-01 07:08:40+00:00  101.428052  440.109597  448.722220  0.092935   \n",
       "2    2021-01-01 07:08:50+00:00  101.428052  440.109618  448.722201  0.092935   \n",
       "3    2021-01-01 07:09:00+00:00  101.428052  440.109649  448.722191  0.092934   \n",
       "4    2021-01-01 07:09:10+00:00  101.428052  440.109685  448.722188  0.092934   \n",
       "..                         ...         ...         ...         ...       ...   \n",
       "955  2021-01-01 09:47:40+00:00   96.555456  443.847866  451.318028  0.078011   \n",
       "956  2021-01-01 09:47:50+00:00   96.555456  443.847866  451.318028  0.078011   \n",
       "957  2021-01-01 09:48:00+00:00   96.555456  443.847866  451.318028  0.078011   \n",
       "958  2021-01-01 09:48:10+00:00   96.555456  443.847866  451.318028  0.078011   \n",
       "959  2021-01-01 09:48:20+00:00   96.555456  443.847866  451.318028  0.078011   \n",
       "\n",
       "          CA2  \n",
       "0    0.005774  \n",
       "1    0.005774  \n",
       "2    0.005774  \n",
       "3    0.005774  \n",
       "4    0.005774  \n",
       "..        ...  \n",
       "955  0.004296  \n",
       "956  0.004296  \n",
       "957  0.004296  \n",
       "958  0.004296  \n",
       "959  0.004296  \n",
       "\n",
       "[960 rows x 6 columns]"
      ]
     },
     "execution_count": 3,
     "metadata": {},
     "output_type": "execute_result"
    }
   ],
   "source": [
    "df = pd.read_csv('signal_df.csv')\n",
    "df"
   ]
  },
  {
   "cell_type": "code",
   "execution_count": 4,
   "id": "b7821272-64c4-40b1-b6ac-6d8bdc3673ed",
   "metadata": {
    "tags": []
   },
   "outputs": [
    {
     "name": "stdout",
     "output_type": "stream",
     "text": [
      "79.778041398\n",
      "0.8716\n"
     ]
    }
   ],
   "source": [
    "# for i in range(1, 10):\n",
    "m1 = GEKKO(remote=False)\n",
    "m1.time = list(df.index)\n",
    "K = m1.FV(value=2, ub=10)\n",
    "K.STATUS = 1\n",
    "tau = m1.FV(value=1, lb=0, ub=20)\n",
    "tau.STATUS = 1\n",
    "y0 = df[['T1']].to_numpy().flatten().tolist()\n",
    "u0 = df[['F_cw']].to_numpy().flatten().tolist()\n",
    "y = m1.Var(y0)\n",
    "# y.FSTATUS = 1\n",
    "u = m1.Param(u0)\n",
    "# y.STATUS = 0\n",
    "\n",
    "ud = m1.Var(u0)\n",
    "# ud.STATUS = 0\n",
    "m1.delay(u, ud, steps=1)\n",
    "yp = m1.Param(y0)\n",
    "m1.Equation(tau*y.dt() + (y-y0[0]) == K*(ud-u0[0]))\n",
    "m1.Minimize((y-yp)**2)\n",
    "m1.options.IMODE = 5\n",
    "# m1.options.NODES = 2\n",
    "m1.solve(False)\n",
    "print(m1.options.OBJFCNVAL)\n",
    "print(m1.options.SOLVETIME)\n"
   ]
  },
  {
   "cell_type": "markdown",
   "id": "4e185b3a-7f73-44e7-8ec5-2dba3b885437",
   "metadata": {},
   "source": [
    "### Rule-based: IMC method"
   ]
  },
  {
   "cell_type": "code",
   "execution_count": 11,
   "id": "73e82a4b-d7fa-4b28-b3e5-331337bb4b77",
   "metadata": {},
   "outputs": [],
   "source": [
    "def ___init__(self):\n",
    "    self.kc = None\n",
    "    self.tau_i = None\n",
    "\n",
    "kp = K[-1]\n",
    "tau_p = tau[-1]\n",
    "tau.VALUE = 5\n",
    "\n",
    "method = 'IMC'\n",
    "\n",
    "kc = 1/kp\n",
    "tau_i = tau_p\n",
    "\n",
    "return kc, tau_i, tau_d"
   ]
  },
  {
   "cell_type": "code",
   "execution_count": 7,
   "id": "a0e38cc5-b777-4930-9a6e-7b78754a2e65",
   "metadata": {},
   "outputs": [
    {
     "data": {
      "text/plain": [
       "-0.78101295861"
      ]
     },
     "execution_count": 7,
     "metadata": {},
     "output_type": "execute_result"
    }
   ],
   "source": [
    "tau[-1]\n",
    "K[-1]"
   ]
  },
  {
   "cell_type": "code",
   "execution_count": 4,
   "id": "f5bbc75a-a663-4390-9adc-89bced065df2",
   "metadata": {},
   "outputs": [
    {
     "name": "stdout",
     "output_type": "stream",
     "text": [
      "28.05805343\n",
      "0.197\n"
     ]
    }
   ],
   "source": [
    "m2 = GEKKO(remote=False)\n",
    "m2.time = np.linspace(0, 5*tau.value[0], 51)\n",
    "K = m2.Param(value=K.value[0])\n",
    "tau = m2.Param(value=tau.value[0])\n",
    "# y0 = df[['T1']].to_numpy().flatten().tolist()\n",
    "# u0 = df[['F_cw']].to_numpy().flatten().tolist()\n",
    "y = m2.CV(y0[0])\n",
    "y.SP = y0[0]+5\n",
    "# y.SPLO = y0[0]+4.5\n",
    "# y.SPHI = y0[0]+5.5\n",
    "y.status = 1\n",
    "y.TR_INIT = 2\n",
    "y.TAU = tau.value\n",
    "u = m2.MV(u0[0], lb=90, ub=110)\n",
    "u.DMAX = 5\n",
    "u.DCOST = 0.001\n",
    "u.status = 1\n",
    "\n",
    "m2.Equation(tau*y.dt() + (y-y0[0]) == K*(u-u0[0]))\n",
    "# m2.Minimize((y-yp)**2)\n",
    "m2.options.IMODE = 6\n",
    "m2.options.CV_TYPE = 2\n",
    "# m1.options.NODES = 2\n",
    "m2.solve(False)\n",
    "print(m2.options.OBJFCNVAL)\n",
    "print(m2.options.SOLVETIME)"
   ]
  },
  {
   "cell_type": "code",
   "execution_count": 5,
   "id": "690bc52a-b8e8-42ef-a38c-80d7e93af8b6",
   "metadata": {},
   "outputs": [
    {
     "data": {
      "image/png": "[encoded data removed]",
      "text/plain": [
       "<Figure size 432x288 with 1 Axes>"
      ]
     },
     "metadata": {
      "needs_background": "light"
     },
     "output_type": "display_data"
    }
   ],
   "source": [
    "import matplotlib.pyplot as plt\n",
    "\n",
    "# plt.plot(y[100:200])\n",
    "plt.plot(y)\n",
    "# plt.plot(u)\n",
    "\n",
    "# plt.plot(y0[100:200])\n",
    "plt.show()"
   ]
  },
  {
   "cell_type": "code",
   "execution_count": 211,
   "id": "77180d74-8273-48fb-a82d-9b4fab941f9c",
   "metadata": {},
   "outputs": [
    {
     "data": {
      "text/plain": [
       "[101.4280519, 93.55682152, 99.353893635, 99.807384089, 99.972697862, 100.05659194, 100.10875395, 100.14112594, 100.15941176, 100.1683714, 100.17159745, 100.17151061, 100.16966012, 100.16700567, 100.16411921, 100.16132269, 100.15878086, 100.15656271, 100.15468134, 100.15311929, 100.15184416, 100.15081793, 100.15000233, 100.14936166, 100.14886413, 100.14848228, 100.1481929, 100.14797667, 100.14781778, 100.14770336, 100.14762307, 100.1475687, 100.14753371, 100.147513, 100.14750261, 100.14749945, 100.14750119, 100.14750606, 100.14751274, 100.14752025, 100.1475279, 100.14753522, 100.14754187, 100.14754766, 100.14755249, 100.14755634, 100.14755924, 100.14756126, 100.14756253, 100.14756319, 100.14756342]"
      ]
     },
     "execution_count": 211,
     "metadata": {},
     "output_type": "execute_result"
    }
   ],
   "source": [
    "u"
   ]
  }
 ],
 "metadata": {
  "kernelspec": {
   "display_name": "Python 3 (ipykernel)",
   "language": "python",
   "name": "python3"
  },
  "language_info": {
   "codemirror_mode": {
    "name": "ipython",
    "version": 3
   },
   "file_extension": ".py",
   "mimetype": "text/x-python",
   "name": "python",
   "nbconvert_exporter": "python",
   "pygments_lexer": "ipython3",
   "version": "3.8.10"
  }
 },
 "nbformat": 4,
 "nbformat_minor": 5
}
