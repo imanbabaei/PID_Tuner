{
 "cells": [
  {
   "cell_type": "markdown",
   "id": "6d715d5b-df10-4acf-8b69-0de7d29c0f3c",
   "metadata": {},
   "source": [
    "## Tuning Page + Backend"
   ]
  },
  {
   "cell_type": "code",
   "execution_count": 1,
   "id": "9f8c880e-0ddc-4d96-b0d1-ce90e874ddac",
   "metadata": {},
   "outputs": [],
   "source": [
    "import ipyvuetify as v\n",
    "from tuning_page import TuningPage\n",
    "from pidtuner import PIDTuner"
   ]
  },
  {
   "cell_type": "code",
   "execution_count": 9,
   "id": "42c1bcf0-bb47-4625-943a-ca9b3ec213e8",
   "metadata": {},
   "outputs": [],
   "source": [
    "class Tuning(TuningPage):\n",
    "    def __init__(self):\n",
    "        super().__init__()\n",
    "        \n",
    "        self.pid = PIDTuner()\n",
    "        \n",
    "        self.pid.k_p = 2\n",
    "        self.pid.tau_p = 10\n",
    "        self.pid.theta_p = 0\n",
    "        \n",
    "        self.pid.k_c, self.pid.tau_i, self.pid.tau_d = self.pid.rule_based(method='IMC')\n",
    "        \n",
    "        self.pid_card.p_slider.set_limits(min(0.1*self.pid.k_c, 1), 10*self.pid.k_c, self.pid.k_c)\n",
    "        self.pid_card.i_slider.set_limits(0.5*self.pid.tau_i, 1.5*self.pid.tau_i, self.pid.tau_i)\n",
    "        self.pid_card.d_slider.set_limits(0.5*self.pid.tau_d, max(1.5*self.pid.tau_d, self.pid.tau_d+5), self.pid.tau_d)\n",
    "        \n",
    "        self.model_card.g_slider.set_limits(0.5*self.pid.k_p, 1.5*self.pid.k_p, self.pid.k_p)\n",
    "        self.model_card.tau_slider.set_limits(0.5*self.pid.tau_p, 1.5*self.pid.tau_p, self.pid.tau_p)\n",
    "        self.model_card.d_slider.set_limits(0, self.pid.theta_p+5, self.pid.theta_p)\n",
    "        \n",
    "        self.pid_card.p_slider.slider.on_event('change', self.update_kc)\n",
    "        self.pid_card.i_slider.slider.on_event('change', self.update_taui)\n",
    "        self.pid_card.d_slider.slider.on_event('change', self.update_taud)\n",
    "        \n",
    "        self.model_card.g_slider.slider.on_event('change', self.update_kp)\n",
    "        self.model_card.tau_slider.slider.on_event('change', self.update_taup)\n",
    "        self.model_card.d_slider.slider.on_event('change', self.update_thetap)\n",
    "        \n",
    "    def update_kp(self, item, *args):\n",
    "        self.pid.k_p = item.v_model\n",
    "        self.run_pid()\n",
    "        \n",
    "    def update_taup(self, item, *args):\n",
    "        self.pid.tau_p = item.v_model\n",
    "        self.run_pid()\n",
    "    \n",
    "    def update_thetap(self, item, *args):\n",
    "        self.pid.theta_p = item.v_model\n",
    "        self.run_pid()\n",
    "        \n",
    "    def update_kc(self, item, *args):\n",
    "        self.pid.k_c = item.v_model\n",
    "        self.run_pid()\n",
    "        \n",
    "    def update_taui(self, item, *args):\n",
    "        self.pid.tau_i = item.v_model\n",
    "        self.run_pid()\n",
    "    \n",
    "    def update_taud(self, item, *args):\n",
    "        self.pid.tau_d = item.v_model\n",
    "        self.run_pid()\n",
    "        \n",
    "    def run_pid(self):\n",
    "        pv, op, t = self.pid.control_sim()\n",
    "        \n",
    "        self.pv_card.update_plot(t, pv)\n",
    "        self.op_card.update_plot(t, op)"
   ]
  },
  {
   "cell_type": "code",
   "execution_count": 10,
   "id": "51a7c7b1-d7be-492a-90e7-aa8d247acf02",
   "metadata": {},
   "outputs": [
    {
     "data": {
      "application/vnd.jupyter.widget-view+json": {
       "model_id": "fd8b24fb855f4626a04f9e049efeb2b3",
       "version_major": 2,
       "version_minor": 0
      },
      "text/plain": [
       "Tuning(children=[Container(children=[CustomData(children=[CardTitle(children=[Spacer(), 'Tuning Constraints', …"
      ]
     },
     "metadata": {},
     "output_type": "display_data"
    }
   ],
   "source": [
    "a = Tuning()\n",
    "a"
   ]
  },
  {
   "cell_type": "code",
   "execution_count": null,
   "id": "15eb32b8-51a3-4824-bd17-a411f8504c07",
   "metadata": {},
   "outputs": [],
   "source": []
  }
 ],
 "metadata": {
  "kernelspec": {
   "display_name": "Python 3 (ipykernel)",
   "language": "python",
   "name": "python3"
  },
  "language_info": {
   "codemirror_mode": {
    "name": "ipython",
    "version": 3
   },
   "file_extension": ".py",
   "mimetype": "text/x-python",
   "name": "python",
   "nbconvert_exporter": "python",
   "pygments_lexer": "ipython3",
   "version": "3.8.10"
  }
 },
 "nbformat": 4,
 "nbformat_minor": 5
}
