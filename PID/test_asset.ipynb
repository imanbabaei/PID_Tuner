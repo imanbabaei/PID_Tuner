{
 "cells": [
  {
   "cell_type": "code",
   "execution_count": 1,
   "id": "a5a7a372-1600-4932-9df1-275f94e27f95",
   "metadata": {},
   "outputs": [],
   "source": [
    "from seeq import spy"
   ]
  },
  {
   "cell_type": "code",
   "execution_count": 2,
   "id": "aa900f13-0240-4f2b-ad23-66906d565267",
   "metadata": {
    "tags": []
   },
   "outputs": [
    {
     "data": {
      "text/html": [
       "<div style=\"background-color: #EEFFEE;text-align: left;\">Logged in to <strong>http://prism-seeq-server:34216</strong> successfully as <strong>mbabaei@byu.edu (Mohammad Reza Babaei [Admin])</strong>.<br>Seeq Server Version: <strong>R54.3.0-v202203031545</strong><br>Seeq Python Module Version: <strong>54.3.2.183.12</strong></div>"
      ],
      "text/plain": [
       "<IPython.core.display.HTML object>"
      ]
     },
     "metadata": {},
     "output_type": "display_data"
    }
   ],
   "source": [
    "spy.login(username='Your Username Here', password='Your Password Here', url='Server URL')"
   ]
  },
  {
   "cell_type": "code",
   "execution_count": 3,
   "id": "b853cf53-b138-4738-9058-14292e7ee88c",
   "metadata": {},
   "outputs": [],
   "source": [
    "from seeq.spy.assets import Asset\n",
    "\n",
    "class HVAC_Monitoring_Requirements(Asset):\n",
    "\n",
    "    @Asset.Requirement()\n",
    "    def Compressor_Power(self, metadata):\n",
    "        \"\"\"\n",
    "        Compressor Power as measured at the power supply of the equipment\n",
    "        itself.\n",
    "        \"\"\"\n",
    "        return {\n",
    "            'Type': 'Signal',\n",
    "            'Unit Of Measure Family': 'kW'\n",
    "        }\n",
    "\n",
    "    @Asset.Requirement()\n",
    "    def Temperature(self, metadata):\n",
    "        \"\"\"\n",
    "        The ambient *external* temperature as measured in a neutral location\n",
    "        away from HVAC inlet/outlet sites.\n",
    "\n",
    "        > Note that this value may be derived from equipment sensors with a\n",
    "        > suitable coefficient to account for location bias.\n",
    "        \"\"\"\n",
    "        return {\n",
    "            'Type': 'Signal',\n",
    "            'Unit Of Measure Family': 'F',\n",
    "            'Optional': True\n",
    "        }"
   ]
  },
  {
   "cell_type": "code",
   "execution_count": 4,
   "id": "1e23f448-84bd-4c5a-b796-b0f8b7a486c4",
   "metadata": {},
   "outputs": [],
   "source": [
    "class HVAC_Monitoring(HVAC_Monitoring_Requirements):\n",
    "\n",
    "    @Asset.Attribute()\n",
    "    def Inefficient_Operation(self, metadata):\n",
    "        \"\"\"\n",
    "        A condition that is present whenever the HVAC is running in ostensibly\n",
    "        unnecessary environmental situations, resulting in inefficient use of power.\n",
    "\n",
    "        Examples:\n",
    "\n",
    "        * Ambient temperature is within control bounds and does not warrant\n",
    "          cooling\n",
    "        * Environmental conditions are such that HVAC system is operating outside\n",
    "          of its range of capabilities\n",
    "        \"\"\"\n",
    "\n",
    "        if not self.Temperature():\n",
    "            return None\n",
    "\n",
    "        return {\n",
    "            'Type': 'Condition',\n",
    "            'Formula Parameters': {\n",
    "                '$power': self.Compressor_Power(),\n",
    "                '$temp': self.Temperature()\n",
    "            },\n",
    "            'Formula': '$power > 20 kW and $temp < 60 F'\n",
    "        }"
   ]
  },
  {
   "cell_type": "code",
   "execution_count": 12,
   "id": "5d0a5a7b-acfe-48b9-857e-3cd5937b4c27",
   "metadata": {},
   "outputs": [
    {
     "data": {
      "text/html": [
       "<div style=\"background-color: #EEFFEE;text-align: left;\">Query successful</div><table class=\"tex2jax_ignore\"><tr><td style=\"background-color: #EEFFEE;\"></td><td style=\"background-color: #EEFFEE; text-align: left;\">Path</td><td style=\"background-color: #EEFFEE; text-align: left;\">Time</td><td style=\"background-color: #EEFFEE; text-align: right;\">Count</td><td style=\"background-color: #EEFFEE; text-align: right;\">Pages</td><td style=\"background-color: #EEFFEE; text-align: left;\">Result</td></tr><tr style=\"background-color: #EEFFEE;\"><td style=\"vertical-align: top;\">0</td><td style=\"text-align: left; vertical-align: top;\">Example</td><td style=\"vertical-align: top;\">00:00:01.38</td><td style=\"text-align: right; vertical-align: top;\">75</td><td style=\"text-align: right; vertical-align: top;\">1</td><td style=\"text-align: left; vertical-align: top;\">Success</td></tr></table>"
      ],
      "text/plain": [
       "<IPython.core.display.HTML object>"
      ]
     },
     "metadata": {},
     "output_type": "display_data"
    }
   ],
   "source": [
    "# Grab the whole tree as the basis of the metadata DataFrame\n",
    "metadata_df = spy.search({\n",
    "    'Path': 'Example'\n",
    "}, recursive=True)"
   ]
  },
  {
   "cell_type": "code",
   "execution_count": 13,
   "id": "ce71fcd3-c819-466e-ac72-ba50079e01fb",
   "metadata": {},
   "outputs": [
    {
     "data": {
      "text/html": [
       "<div>\n",
       "<style scoped>\n",
       "    .dataframe tbody tr th:only-of-type {\n",
       "        vertical-align: middle;\n",
       "    }\n",
       "\n",
       "    .dataframe tbody tr th {\n",
       "        vertical-align: top;\n",
       "    }\n",
       "\n",
       "    .dataframe thead th {\n",
       "        text-align: right;\n",
       "    }\n",
       "</style>\n",
       "<table border=\"1\" class=\"dataframe\">\n",
       "  <thead>\n",
       "    <tr style=\"text-align: right;\">\n",
       "      <th></th>\n",
       "      <th>ID</th>\n",
       "      <th>Path</th>\n",
       "      <th>Asset</th>\n",
       "      <th>Name</th>\n",
       "      <th>Description</th>\n",
       "      <th>Type</th>\n",
       "      <th>Value Unit Of Measure</th>\n",
       "      <th>Datasource Name</th>\n",
       "      <th>Archived</th>\n",
       "    </tr>\n",
       "  </thead>\n",
       "  <tbody>\n",
       "    <tr>\n",
       "      <th>0</th>\n",
       "      <td>4C1CB882-40AF-441C-BB15-2D0D8E0F991B</td>\n",
       "      <td>NaN</td>\n",
       "      <td>Example</td>\n",
       "      <td>Cooling Tower 2</td>\n",
       "      <td>NaN</td>\n",
       "      <td>Asset</td>\n",
       "      <td>NaN</td>\n",
       "      <td>Example Data</td>\n",
       "      <td>False</td>\n",
       "    </tr>\n",
       "    <tr>\n",
       "      <th>1</th>\n",
       "      <td>00F97575-EDB4-4BA5-916A-E67620A80527</td>\n",
       "      <td>Example</td>\n",
       "      <td>Cooling Tower 2</td>\n",
       "      <td>Area E</td>\n",
       "      <td>NaN</td>\n",
       "      <td>Asset</td>\n",
       "      <td>NaN</td>\n",
       "      <td>Example Data</td>\n",
       "      <td>False</td>\n",
       "    </tr>\n",
       "    <tr>\n",
       "      <th>2</th>\n",
       "      <td>F83DCBAE-C347-4926-808A-3419D1562E89</td>\n",
       "      <td>Example &gt;&gt; Cooling Tower 2</td>\n",
       "      <td>Area E</td>\n",
       "      <td>Compressor Stage</td>\n",
       "      <td>NaN</td>\n",
       "      <td>StoredSignal</td>\n",
       "      <td>string</td>\n",
       "      <td>Example Data</td>\n",
       "      <td>False</td>\n",
       "    </tr>\n",
       "    <tr>\n",
       "      <th>3</th>\n",
       "      <td>21043814-6119-409B-93B4-DD7DE800BB7F</td>\n",
       "      <td>NaN</td>\n",
       "      <td>Example</td>\n",
       "      <td>Cooling Tower 1</td>\n",
       "      <td>NaN</td>\n",
       "      <td>Asset</td>\n",
       "      <td>NaN</td>\n",
       "      <td>Example Data</td>\n",
       "      <td>False</td>\n",
       "    </tr>\n",
       "    <tr>\n",
       "      <th>4</th>\n",
       "      <td>07585651-7400-4BB1-AE9D-6F8471AEC06B</td>\n",
       "      <td>Example</td>\n",
       "      <td>Cooling Tower 1</td>\n",
       "      <td>Area C</td>\n",
       "      <td>NaN</td>\n",
       "      <td>Asset</td>\n",
       "      <td>NaN</td>\n",
       "      <td>Example Data</td>\n",
       "      <td>False</td>\n",
       "    </tr>\n",
       "    <tr>\n",
       "      <th>...</th>\n",
       "      <td>...</td>\n",
       "      <td>...</td>\n",
       "      <td>...</td>\n",
       "      <td>...</td>\n",
       "      <td>...</td>\n",
       "      <td>...</td>\n",
       "      <td>...</td>\n",
       "      <td>...</td>\n",
       "      <td>...</td>\n",
       "    </tr>\n",
       "    <tr>\n",
       "      <th>70</th>\n",
       "      <td>25B5A0D8-8FB4-461C-AD58-A58A442D26BF</td>\n",
       "      <td>Example &gt;&gt; Cooling Tower 2</td>\n",
       "      <td>Area D</td>\n",
       "      <td>Wet Bulb</td>\n",
       "      <td>NaN</td>\n",
       "      <td>StoredSignal</td>\n",
       "      <td>°F</td>\n",
       "      <td>Example Data</td>\n",
       "      <td>False</td>\n",
       "    </tr>\n",
       "    <tr>\n",
       "      <th>71</th>\n",
       "      <td>1D9CC92F-C608-4C9E-99FD-E61092BAEE8E</td>\n",
       "      <td>Example &gt;&gt; Cooling Tower 2</td>\n",
       "      <td>Area D</td>\n",
       "      <td>Temperature</td>\n",
       "      <td>NaN</td>\n",
       "      <td>StoredSignal</td>\n",
       "      <td>°F</td>\n",
       "      <td>Example Data</td>\n",
       "      <td>False</td>\n",
       "    </tr>\n",
       "    <tr>\n",
       "      <th>72</th>\n",
       "      <td>9DFFC494-7C85-45C4-92E1-9814BC18C49E</td>\n",
       "      <td>Example &gt;&gt; Cooling Tower 2</td>\n",
       "      <td>Area D</td>\n",
       "      <td>Compressor Power</td>\n",
       "      <td>NaN</td>\n",
       "      <td>StoredSignal</td>\n",
       "      <td>kW</td>\n",
       "      <td>Example Data</td>\n",
       "      <td>False</td>\n",
       "    </tr>\n",
       "    <tr>\n",
       "      <th>73</th>\n",
       "      <td>A67666EB-229B-4710-9B88-03278B73FA04</td>\n",
       "      <td>Example &gt;&gt; Cooling Tower 2</td>\n",
       "      <td>Area D</td>\n",
       "      <td>Compressor Stage</td>\n",
       "      <td>NaN</td>\n",
       "      <td>StoredSignal</td>\n",
       "      <td>string</td>\n",
       "      <td>Example Data</td>\n",
       "      <td>False</td>\n",
       "    </tr>\n",
       "    <tr>\n",
       "      <th>74</th>\n",
       "      <td>DAE613E2-5B3E-4AC6-A29C-93C405CF4258</td>\n",
       "      <td>Example &gt;&gt; Cooling Tower 1</td>\n",
       "      <td>Area K</td>\n",
       "      <td>Relative Humidity</td>\n",
       "      <td>NaN</td>\n",
       "      <td>StoredSignal</td>\n",
       "      <td>%</td>\n",
       "      <td>Example Data</td>\n",
       "      <td>False</td>\n",
       "    </tr>\n",
       "  </tbody>\n",
       "</table>\n",
       "<p>75 rows × 9 columns</p>\n",
       "</div>"
      ],
      "text/plain": [
       "                                      ID                        Path  \\\n",
       "0   4C1CB882-40AF-441C-BB15-2D0D8E0F991B                         NaN   \n",
       "1   00F97575-EDB4-4BA5-916A-E67620A80527                     Example   \n",
       "2   F83DCBAE-C347-4926-808A-3419D1562E89  Example >> Cooling Tower 2   \n",
       "3   21043814-6119-409B-93B4-DD7DE800BB7F                         NaN   \n",
       "4   07585651-7400-4BB1-AE9D-6F8471AEC06B                     Example   \n",
       "..                                   ...                         ...   \n",
       "70  25B5A0D8-8FB4-461C-AD58-A58A442D26BF  Example >> Cooling Tower 2   \n",
       "71  1D9CC92F-C608-4C9E-99FD-E61092BAEE8E  Example >> Cooling Tower 2   \n",
       "72  9DFFC494-7C85-45C4-92E1-9814BC18C49E  Example >> Cooling Tower 2   \n",
       "73  A67666EB-229B-4710-9B88-03278B73FA04  Example >> Cooling Tower 2   \n",
       "74  DAE613E2-5B3E-4AC6-A29C-93C405CF4258  Example >> Cooling Tower 1   \n",
       "\n",
       "              Asset               Name  Description          Type  \\\n",
       "0           Example    Cooling Tower 2          NaN         Asset   \n",
       "1   Cooling Tower 2             Area E          NaN         Asset   \n",
       "2            Area E   Compressor Stage          NaN  StoredSignal   \n",
       "3           Example    Cooling Tower 1          NaN         Asset   \n",
       "4   Cooling Tower 1             Area C          NaN         Asset   \n",
       "..              ...                ...          ...           ...   \n",
       "70           Area D           Wet Bulb          NaN  StoredSignal   \n",
       "71           Area D        Temperature          NaN  StoredSignal   \n",
       "72           Area D   Compressor Power          NaN  StoredSignal   \n",
       "73           Area D   Compressor Stage          NaN  StoredSignal   \n",
       "74           Area K  Relative Humidity          NaN  StoredSignal   \n",
       "\n",
       "   Value Unit Of Measure Datasource Name  Archived  \n",
       "0                    NaN    Example Data     False  \n",
       "1                    NaN    Example Data     False  \n",
       "2                 string    Example Data     False  \n",
       "3                    NaN    Example Data     False  \n",
       "4                    NaN    Example Data     False  \n",
       "..                   ...             ...       ...  \n",
       "70                    °F    Example Data     False  \n",
       "71                    °F    Example Data     False  \n",
       "72                    kW    Example Data     False  \n",
       "73                string    Example Data     False  \n",
       "74                     %    Example Data     False  \n",
       "\n",
       "[75 rows x 9 columns]"
      ]
     },
     "execution_count": 13,
     "metadata": {},
     "output_type": "execute_result"
    }
   ],
   "source": [
    "metadata_df"
   ]
  },
  {
   "cell_type": "code",
   "execution_count": 5,
   "id": "9c97d2b3-7221-45c3-a092-640e49c97207",
   "metadata": {},
   "outputs": [
    {
     "data": {
      "text/html": [
       "<div style=\"background-color: #EEFFEE;text-align: left;\">Query successful</div><table class=\"tex2jax_ignore\"><tr><td style=\"background-color: #EEFFEE;\"></td><td style=\"background-color: #EEFFEE; text-align: left;\">Path</td><td style=\"background-color: #EEFFEE; text-align: left;\">Time</td><td style=\"background-color: #EEFFEE; text-align: right;\">Count</td><td style=\"background-color: #EEFFEE; text-align: right;\">Pages</td><td style=\"background-color: #EEFFEE; text-align: left;\">Result</td></tr><tr style=\"background-color: #EEFFEE;\"><td style=\"vertical-align: top;\">0</td><td style=\"text-align: left; vertical-align: top;\">Example</td><td style=\"vertical-align: top;\">00:00:01.26</td><td style=\"text-align: right; vertical-align: top;\">75</td><td style=\"text-align: right; vertical-align: top;\">1</td><td style=\"text-align: left; vertical-align: top;\">Success</td></tr></table>"
      ],
      "text/plain": [
       "<IPython.core.display.HTML object>"
      ]
     },
     "metadata": {},
     "output_type": "display_data"
    },
    {
     "data": {
      "text/html": [
       "<div>\n",
       "<style scoped>\n",
       "    .dataframe tbody tr th:only-of-type {\n",
       "        vertical-align: middle;\n",
       "    }\n",
       "\n",
       "    .dataframe tbody tr th {\n",
       "        vertical-align: top;\n",
       "    }\n",
       "\n",
       "    .dataframe thead th {\n",
       "        text-align: right;\n",
       "    }\n",
       "</style>\n",
       "<table border=\"1\" class=\"dataframe\">\n",
       "  <thead>\n",
       "    <tr style=\"text-align: right;\">\n",
       "      <th></th>\n",
       "      <th>ID</th>\n",
       "      <th>Path</th>\n",
       "      <th>Asset</th>\n",
       "      <th>Name</th>\n",
       "      <th>Type</th>\n",
       "      <th>Build Path</th>\n",
       "      <th>Build Asset</th>\n",
       "      <th>Build Template</th>\n",
       "    </tr>\n",
       "  </thead>\n",
       "  <tbody>\n",
       "    <tr>\n",
       "      <th>0</th>\n",
       "      <td>4C1CB882-40AF-441C-BB15-2D0D8E0F991B</td>\n",
       "      <td>NaN</td>\n",
       "      <td>Example</td>\n",
       "      <td>Cooling Tower 2</td>\n",
       "      <td>Asset</td>\n",
       "      <td>HVAC Monitoring</td>\n",
       "      <td>Cooling Tower 2</td>\n",
       "      <td>NaN</td>\n",
       "    </tr>\n",
       "    <tr>\n",
       "      <th>1</th>\n",
       "      <td>00F97575-EDB4-4BA5-916A-E67620A80527</td>\n",
       "      <td>Example</td>\n",
       "      <td>Cooling Tower 2</td>\n",
       "      <td>Area E</td>\n",
       "      <td>Asset</td>\n",
       "      <td>HVAC Monitoring &gt;&gt; Cooling Tower 2</td>\n",
       "      <td>Area E</td>\n",
       "      <td>HVAC_Monitoring</td>\n",
       "    </tr>\n",
       "    <tr>\n",
       "      <th>2</th>\n",
       "      <td>F83DCBAE-C347-4926-808A-3419D1562E89</td>\n",
       "      <td>Example &gt;&gt; Cooling Tower 2</td>\n",
       "      <td>Area E</td>\n",
       "      <td>Compressor Stage</td>\n",
       "      <td>StoredSignal</td>\n",
       "      <td>HVAC Monitoring &gt;&gt; Cooling Tower 2</td>\n",
       "      <td>Area E</td>\n",
       "      <td>HVAC_Monitoring</td>\n",
       "    </tr>\n",
       "    <tr>\n",
       "      <th>3</th>\n",
       "      <td>21043814-6119-409B-93B4-DD7DE800BB7F</td>\n",
       "      <td>NaN</td>\n",
       "      <td>Example</td>\n",
       "      <td>Cooling Tower 1</td>\n",
       "      <td>Asset</td>\n",
       "      <td>HVAC Monitoring</td>\n",
       "      <td>Cooling Tower 1</td>\n",
       "      <td>NaN</td>\n",
       "    </tr>\n",
       "    <tr>\n",
       "      <th>4</th>\n",
       "      <td>07585651-7400-4BB1-AE9D-6F8471AEC06B</td>\n",
       "      <td>Example</td>\n",
       "      <td>Cooling Tower 1</td>\n",
       "      <td>Area C</td>\n",
       "      <td>Asset</td>\n",
       "      <td>HVAC Monitoring &gt;&gt; Cooling Tower 1</td>\n",
       "      <td>Area C</td>\n",
       "      <td>HVAC_Monitoring</td>\n",
       "    </tr>\n",
       "  </tbody>\n",
       "</table>\n",
       "</div>"
      ],
      "text/plain": [
       "                                     ID                        Path  \\\n",
       "0  4C1CB882-40AF-441C-BB15-2D0D8E0F991B                         NaN   \n",
       "1  00F97575-EDB4-4BA5-916A-E67620A80527                     Example   \n",
       "2  F83DCBAE-C347-4926-808A-3419D1562E89  Example >> Cooling Tower 2   \n",
       "3  21043814-6119-409B-93B4-DD7DE800BB7F                         NaN   \n",
       "4  07585651-7400-4BB1-AE9D-6F8471AEC06B                     Example   \n",
       "\n",
       "             Asset              Name          Type  \\\n",
       "0          Example   Cooling Tower 2         Asset   \n",
       "1  Cooling Tower 2            Area E         Asset   \n",
       "2           Area E  Compressor Stage  StoredSignal   \n",
       "3          Example   Cooling Tower 1         Asset   \n",
       "4  Cooling Tower 1            Area C         Asset   \n",
       "\n",
       "                           Build Path      Build Asset   Build Template  \n",
       "0                     HVAC Monitoring  Cooling Tower 2              NaN  \n",
       "1  HVAC Monitoring >> Cooling Tower 2           Area E  HVAC_Monitoring  \n",
       "2  HVAC Monitoring >> Cooling Tower 2           Area E  HVAC_Monitoring  \n",
       "3                     HVAC Monitoring  Cooling Tower 1              NaN  \n",
       "4  HVAC Monitoring >> Cooling Tower 1           Area C  HVAC_Monitoring  "
      ]
     },
     "execution_count": 5,
     "metadata": {},
     "output_type": "execute_result"
    }
   ],
   "source": [
    "# Grab the whole tree as the basis of the metadata DataFrame\n",
    "metadata_df = spy.search({\n",
    "    'Path': 'Example'\n",
    "}, recursive=True)\n",
    "\n",
    "# Reduce the number of columns (just for readability)\n",
    "metadata_df = metadata_df[['ID', 'Path', 'Asset', 'Name', 'Type']]\n",
    "\n",
    "# This call prepares the metadata DataFrame by adding 'Build Path' and\n",
    "# 'Build Asset' columns. You can also specify a new root_asset_name, which\n",
    "# is often desired so that you can differentiate the output tree from the\n",
    "# input tree.\n",
    "spy.assets.prepare(metadata_df, root_asset_name='HVAC Monitoring')\n",
    "\n",
    "# Specify the Build Template. We want to target all leaf \"Area\" assets (for now)\n",
    "metadata_df.at[metadata_df['Build Asset'].str.startswith('Area '), 'Build Template'] = 'HVAC_Monitoring'\n",
    "\n",
    "metadata_df.head()"
   ]
  },
  {
   "cell_type": "code",
   "execution_count": 6,
   "id": "f225367c-0c26-481d-81c1-2bb1d1959aad",
   "metadata": {},
   "outputs": [
    {
     "data": {
      "text/html": [
       "<div style=\"background-color: #EEFFEE;text-align: left;\">Successfully built 11 assets and 31 attributes.</div><table class=\"tex2jax_ignore\"><tr><td style=\"background-color: #EEFFEE;\"></td><td style=\"background-color: #EEFFEE; text-align: left;\">Build Path</td><td style=\"background-color: #EEFFEE; text-align: left;\">Build Asset</td><td style=\"background-color: #EEFFEE; text-align: left;\">Build Template</td><td style=\"background-color: #EEFFEE; text-align: left;\">Build Result</td></tr><tr style=\"background-color: #EEFFEE;\"><td style=\"vertical-align: top;\">0</td><td style=\"text-align: left; vertical-align: top;\">HVAC Monitoring >> Cooling Tower 2</td><td style=\"text-align: left; vertical-align: top;\">Area E</td><td style=\"text-align: left; vertical-align: top;\">HVAC_Monitoring</td><td style=\"text-align: left; vertical-align: top;\">Success</td></tr><tr style=\"background-color: #EEFFEE;\"><td style=\"vertical-align: top;\">1</td><td style=\"text-align: left; vertical-align: top;\">HVAC Monitoring >> Cooling Tower 1</td><td style=\"text-align: left; vertical-align: top;\">Area C</td><td style=\"text-align: left; vertical-align: top;\">HVAC_Monitoring</td><td style=\"text-align: left; vertical-align: top;\">Success</td></tr><tr style=\"background-color: #EEFFEE;\"><td style=\"vertical-align: top;\">2</td><td style=\"text-align: left; vertical-align: top;\">HVAC Monitoring >> Cooling Tower 1</td><td style=\"text-align: left; vertical-align: top;\">Area G</td><td style=\"text-align: left; vertical-align: top;\">HVAC_Monitoring</td><td style=\"text-align: left; vertical-align: top;\">Success</td></tr><tr style=\"background-color: #EEFFEE;\"><td style=\"vertical-align: top;\">3</td><td style=\"text-align: left; vertical-align: top;\">HVAC Monitoring >> Cooling Tower 1</td><td style=\"text-align: left; vertical-align: top;\">Area J</td><td style=\"text-align: left; vertical-align: top;\">HVAC_Monitoring</td><td style=\"text-align: left; vertical-align: top;\">Success</td></tr><tr style=\"background-color: #EEFFEE;\"><td style=\"vertical-align: top;\">4</td><td style=\"text-align: left; vertical-align: top;\">HVAC Monitoring >> Cooling Tower 1</td><td style=\"text-align: left; vertical-align: top;\">Area I</td><td style=\"text-align: left; vertical-align: top;\">HVAC_Monitoring</td><td style=\"text-align: left; vertical-align: top;\">Success</td></tr><tr style=\"background-color: #EEFFEE;\"><td style=\"vertical-align: top;\">5</td><td style=\"text-align: left; vertical-align: top;\">HVAC Monitoring >> Cooling Tower 1</td><td style=\"text-align: left; vertical-align: top;\">Area B</td><td style=\"text-align: left; vertical-align: top;\">HVAC_Monitoring</td><td style=\"text-align: left; vertical-align: top;\">Success</td></tr><tr style=\"background-color: #EEFFEE;\"><td style=\"vertical-align: top;\">6</td><td style=\"text-align: left; vertical-align: top;\">HVAC Monitoring >> Cooling Tower 1</td><td style=\"text-align: left; vertical-align: top;\">Area A</td><td style=\"text-align: left; vertical-align: top;\">HVAC_Monitoring</td><td style=\"text-align: left; vertical-align: top;\">Success</td></tr><tr style=\"background-color: #EEFFEE;\"><td style=\"vertical-align: top;\">7</td><td style=\"text-align: left; vertical-align: top;\">HVAC Monitoring >> Cooling Tower 1</td><td style=\"text-align: left; vertical-align: top;\">Area K</td><td style=\"text-align: left; vertical-align: top;\">HVAC_Monitoring</td><td style=\"text-align: left; vertical-align: top;\">Success</td></tr><tr style=\"background-color: #EEFFEE;\"><td style=\"vertical-align: top;\">8</td><td style=\"text-align: left; vertical-align: top;\">HVAC Monitoring >> Cooling Tower 1</td><td style=\"text-align: left; vertical-align: top;\">Area H</td><td style=\"text-align: left; vertical-align: top;\">HVAC_Monitoring</td><td style=\"text-align: left; vertical-align: top;\">Success</td></tr><tr style=\"background-color: #EEFFEE;\"><td style=\"vertical-align: top;\">9</td><td style=\"text-align: left; vertical-align: top;\">HVAC Monitoring >> Cooling Tower 2</td><td style=\"text-align: left; vertical-align: top;\">Area F</td><td style=\"text-align: left; vertical-align: top;\">HVAC_Monitoring</td><td style=\"text-align: left; vertical-align: top;\">Success</td></tr><tr style=\"background-color: #EEFFEE;\"><td style=\"vertical-align: top;\">10</td><td style=\"text-align: left; vertical-align: top;\">HVAC Monitoring >> Cooling Tower 2</td><td style=\"text-align: left; vertical-align: top;\">Area D</td><td style=\"text-align: left; vertical-align: top;\">HVAC_Monitoring</td><td style=\"text-align: left; vertical-align: top;\">Success</td></tr></table>"
      ],
      "text/plain": [
       "<IPython.core.display.HTML object>"
      ]
     },
     "metadata": {},
     "output_type": "display_data"
    }
   ],
   "source": [
    "build_df = spy.assets.build(HVAC_Monitoring, metadata_df)"
   ]
  },
  {
   "cell_type": "code",
   "execution_count": 7,
   "id": "70fb82ed-b558-4fac-a4f1-010443080ccb",
   "metadata": {},
   "outputs": [
    {
     "data": {
      "text/html": [
       "<div style=\"background-color: #EEFFEE;text-align: left;\">Pushed successfully to datasource <strong>Seeq Data Lab [Datasource ID: Seeq Data Lab]</strong> and scoped to workbook ID <strong>005BA3BD-9BA5-4D95-8D8C-B17358E78B5A</strong><br>Click the following link to see what you pushed in Seeq:<br><a href=\"http://prism-seeq-server:34216/78AF8DC6-5ACA-46BB-876C-B62214C11B8B/workbook/005BA3BD-9BA5-4D95-8D8C-B17358E78B5A/worksheet/FE672527-24AB-4E0B-B33A-9CFC05C0B0B4\" target=\"_new\">http://prism-seeq-server:34216/78AF8DC6-5ACA-46BB-876C-B62214C11B8B/workbook/005BA3BD-9BA5-4D95-8D8C-B17358E78B5A/worksheet/FE672527-24AB-4E0B-B33A-9CFC05C0B0B4</a></div>"
      ],
      "text/plain": [
       "<IPython.core.display.HTML object>"
      ]
     },
     "metadata": {},
     "output_type": "display_data"
    }
   ],
   "source": [
    "push_results_df = spy.push(metadata=build_df, quiet=True)"
   ]
  },
  {
   "cell_type": "code",
   "execution_count": 8,
   "id": "055bd69f-efb7-490e-8393-796a6713df8b",
   "metadata": {},
   "outputs": [],
   "source": [
    "html = spy.assets.brochure(HVAC_Monitoring, output='html')\n",
    "\n",
    "# Write it to a file so we can view it in the browser\n",
    "with open('hvac_monitoring_brochure.html', 'w') as f:\n",
    "    f.write(html)"
   ]
  }
 ],
 "metadata": {
  "kernelspec": {
   "display_name": "Python 3.8.10 64-bit",
   "language": "python",
   "name": "python3"
  },
  "language_info": {
   "codemirror_mode": {
    "name": "ipython",
    "version": 3
   },
   "file_extension": ".py",
   "mimetype": "text/x-python",
   "name": "python",
   "nbconvert_exporter": "python",
   "pygments_lexer": "ipython3",
   "version": "3.8.10"
  },
  "vscode": {
   "interpreter": {
    "hash": "91d8968b6913674266b8374e74b5d853c49110d536766801bd46299aafaf398d"
   }
  }
 },
 "nbformat": 4,
 "nbformat_minor": 5
}
